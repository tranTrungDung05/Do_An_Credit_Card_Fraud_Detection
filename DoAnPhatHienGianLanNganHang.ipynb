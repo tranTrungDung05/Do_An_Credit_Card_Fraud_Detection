{
 "cells": [
  {
   "cell_type": "code",
   "execution_count": 1,
   "id": "18e19576-3027-471d-8bb7-107d7fd16e1c",
   "metadata": {},
   "outputs": [
    {
     "name": "stdout",
     "output_type": "stream",
     "text": [
      "5 dòng dữ liệu đầu tiên:\n",
      "   Time        V1        V2        V3        V4        V5        V6        V7  \\\n",
      "0   0.0 -1.359807 -0.072781  2.536347  1.378155 -0.338321  0.462388  0.239599   \n",
      "1   0.0  1.191857  0.266151  0.166480  0.448154  0.060018 -0.082361 -0.078803   \n",
      "2   1.0 -1.358354 -1.340163  1.773209  0.379780 -0.503198  1.800499  0.791461   \n",
      "3   1.0 -0.966272 -0.185226  1.792993 -0.863291 -0.010309  1.247203  0.237609   \n",
      "4   2.0 -1.158233  0.877737  1.548718  0.403034 -0.407193  0.095921  0.592941   \n",
      "\n",
      "         V8        V9  ...       V21       V22       V23       V24       V25  \\\n",
      "0  0.098698  0.363787  ... -0.018307  0.277838 -0.110474  0.066928  0.128539   \n",
      "1  0.085102 -0.255425  ... -0.225775 -0.638672  0.101288 -0.339846  0.167170   \n",
      "2  0.247676 -1.514654  ...  0.247998  0.771679  0.909412 -0.689281 -0.327642   \n",
      "3  0.377436 -1.387024  ... -0.108300  0.005274 -0.190321 -1.175575  0.647376   \n",
      "4 -0.270533  0.817739  ... -0.009431  0.798278 -0.137458  0.141267 -0.206010   \n",
      "\n",
      "        V26       V27       V28  Amount  Class  \n",
      "0 -0.189115  0.133558 -0.021053  149.62      0  \n",
      "1  0.125895 -0.008983  0.014724    2.69      0  \n",
      "2 -0.139097 -0.055353 -0.059752  378.66      0  \n",
      "3 -0.221929  0.062723  0.061458  123.50      0  \n",
      "4  0.502292  0.219422  0.215153   69.99      0  \n",
      "\n",
      "[5 rows x 31 columns]\n",
      "\n",
      "Thông tin về kiểu dữ liệu (kiểm tra giá trị null):\n",
      "<class 'pandas.core.frame.DataFrame'>\n",
      "RangeIndex: 284807 entries, 0 to 284806\n",
      "Data columns (total 31 columns):\n",
      " #   Column  Non-Null Count   Dtype  \n",
      "---  ------  --------------   -----  \n",
      " 0   Time    284807 non-null  float64\n",
      " 1   V1      284807 non-null  float64\n",
      " 2   V2      284807 non-null  float64\n",
      " 3   V3      284807 non-null  float64\n",
      " 4   V4      284807 non-null  float64\n",
      " 5   V5      284807 non-null  float64\n",
      " 6   V6      284807 non-null  float64\n",
      " 7   V7      284807 non-null  float64\n",
      " 8   V8      284807 non-null  float64\n",
      " 9   V9      284807 non-null  float64\n",
      " 10  V10     284807 non-null  float64\n",
      " 11  V11     284807 non-null  float64\n",
      " 12  V12     284807 non-null  float64\n",
      " 13  V13     284807 non-null  float64\n",
      " 14  V14     284807 non-null  float64\n",
      " 15  V15     284807 non-null  float64\n",
      " 16  V16     284807 non-null  float64\n",
      " 17  V17     284807 non-null  float64\n",
      " 18  V18     284807 non-null  float64\n",
      " 19  V19     284807 non-null  float64\n",
      " 20  V20     284807 non-null  float64\n",
      " 21  V21     284807 non-null  float64\n",
      " 22  V22     284807 non-null  float64\n",
      " 23  V23     284807 non-null  float64\n",
      " 24  V24     284807 non-null  float64\n",
      " 25  V25     284807 non-null  float64\n",
      " 26  V26     284807 non-null  float64\n",
      " 27  V27     284807 non-null  float64\n",
      " 28  V28     284807 non-null  float64\n",
      " 29  Amount  284807 non-null  float64\n",
      " 30  Class   284807 non-null  int64  \n",
      "dtypes: float64(30), int64(1)\n",
      "memory usage: 67.4 MB\n",
      "None\n"
     ]
    }
   ],
   "source": [
    "# Cell 1: Nhập thư viện và tải dữ liệu\n",
    "import pandas as pd\n",
    "import numpy as np\n",
    "import matplotlib.pyplot as plt\n",
    "import seaborn as sns\n",
    "from sklearn.model_selection import train_test_split\n",
    "from sklearn.preprocessing import RobustScaler\n",
    "from sklearn.linear_model import LogisticRegression\n",
    "from sklearn.metrics import classification_report, roc_auc_score, confusion_matrix\n",
    "\n",
    "# Thiết lập hiển thị cho Seaborn/Matplotlib\n",
    "sns.set_theme(style=\"whitegrid\")\n",
    "%matplotlib inline \n",
    "\n",
    "# Tải dữ liệu (Thay đổi đường dẫn nếu file không nằm cùng thư mục)\n",
    "df = pd.read_csv('creditcard.csv')\n",
    "\n",
    "print(\"5 dòng dữ liệu đầu tiên:\")\n",
    "print(df.head())\n",
    "\n",
    "print(\"\\nThông tin về kiểu dữ liệu (kiểm tra giá trị null):\")\n",
    "# Public: Check for any missing values (should be 0)\n",
    "print(df.info())"
   ]
  },
  {
   "cell_type": "code",
   "execution_count": 2,
   "id": "50f6d1d9-5854-4d84-a587-df26e90235fb",
   "metadata": {},
   "outputs": [
    {
     "name": "stdout",
     "output_type": "stream",
     "text": [
      "Số lượng giao dịch theo Class:\n",
      "Class\n",
      "0    284315\n",
      "1       492\n",
      "Name: count, dtype: int64\n",
      "\n",
      "Tỷ lệ phần trăm giao dịch:\n",
      "Hợp lệ (0): 99.8273%\n",
      "Gian lận (1): 0.1727%\n"
     ]
    },
    {
     "data": {
      "image/png": "[encoded data removed]",
      "text/plain": [
       "<Figure size 700x500 with 1 Axes>"
      ]
     },
     "metadata": {},
     "output_type": "display_data"
    }
   ],
   "source": [
    "# Cell 2: Phân tích Mất Cân bằng\n",
    "\n",
    "# 1. Đếm số lượng và tính tỷ lệ\n",
    "class_counts = df['Class'].value_counts()\n",
    "\n",
    "# Tính tỷ lệ phần trăm\n",
    "fraud_rate = class_counts[1] / len(df) * 100\n",
    "\n",
    "print(\"Số lượng giao dịch theo Class:\")\n",
    "print(class_counts)\n",
    "\n",
    "print(\"\\nTỷ lệ phần trăm giao dịch:\")\n",
    "print(f\"Hợp lệ (0): {class_counts[0] / len(df) * 100:.4f}%\")\n",
    "print(f\"Gian lận (1): {fraud_rate:.4f}%\")\n",
    "\n",
    "# 2. Vẽ biểu đồ trực quan hóa\n",
    "plt.figure(figsize=(7, 5))\n",
    "sns.countplot(x='Class', data=df)\n",
    "plt.title(f'Phân bố Class (Tỷ lệ gian lận: {fraud_rate:.4f}%)', fontsize=14)\n",
    "plt.ylabel('Số lượng giao dịch')\n",
    "plt.xticks([0, 1], ['Hợp lệ', 'Gian lận'])\n",
    "plt.show()"
   ]
  },
  {
   "cell_type": "code",
   "execution_count": 3,
   "id": "319a8f31-2ec9-4c27-bd9a-7ea7a65468bd",
   "metadata": {},
   "outputs": [
    {
     "name": "stdout",
     "output_type": "stream",
     "text": [
      "5 dòng dữ liệu đầu tiên sau khi chuẩn hóa:\n",
      "   scaled_amount  scaled_time        V1        V2        V3        V4  \\\n",
      "0       1.783274    -0.994983 -1.359807 -0.072781  2.536347  1.378155   \n",
      "1      -0.269825    -0.994983  1.191857  0.266151  0.166480  0.448154   \n",
      "2       4.983721    -0.994972 -1.358354 -1.340163  1.773209  0.379780   \n",
      "3       1.418291    -0.994972 -0.966272 -0.185226  1.792993 -0.863291   \n",
      "4       0.670579    -0.994960 -1.158233  0.877737  1.548718  0.403034   \n",
      "\n",
      "         V5        V6        V7        V8  ...       V20       V21       V22  \\\n",
      "0 -0.338321  0.462388  0.239599  0.098698  ...  0.251412 -0.018307  0.277838   \n",
      "1  0.060018 -0.082361 -0.078803  0.085102  ... -0.069083 -0.225775 -0.638672   \n",
      "2 -0.503198  1.800499  0.791461  0.247676  ...  0.524980  0.247998  0.771679   \n",
      "3 -0.010309  1.247203  0.237609  0.377436  ... -0.208038 -0.108300  0.005274   \n",
      "4 -0.407193  0.095921  0.592941 -0.270533  ...  0.408542 -0.009431  0.798278   \n",
      "\n",
      "        V23       V24       V25       V26       V27       V28  Class  \n",
      "0 -0.110474  0.066928  0.128539 -0.189115  0.133558 -0.021053      0  \n",
      "1  0.101288 -0.339846  0.167170  0.125895 -0.008983  0.014724      0  \n",
      "2  0.909412 -0.689281 -0.327642 -0.139097 -0.055353 -0.059752      0  \n",
      "3 -0.190321 -1.175575  0.647376 -0.221929  0.062723  0.061458      0  \n",
      "4 -0.137458  0.141267 -0.206010  0.502292  0.219422  0.215153      0  \n",
      "\n",
      "[5 rows x 31 columns]\n"
     ]
    }
   ],
   "source": [
    "# Cell 3: Chuẩn hóa dữ liệu\n",
    "\n",
    "# 1. Khởi tạo RobustScaler: Thường được ưu tiên hơn StandardScaler vì nó ít bị ảnh hưởng bởi các giá trị ngoại lai (outliers)\n",
    "rob_scaler = RobustScaler()\n",
    "\n",
    "# 2. Chuẩn hóa và tạo cột mới\n",
    "df['scaled_amount'] = rob_scaler.fit_transform(df['Amount'].values.reshape(-1, 1))\n",
    "df['scaled_time'] = rob_scaler.fit_transform(df['Time'].values.reshape(-1, 1))\n",
    "\n",
    "# 3. Xóa các cột gốc 'Time' và 'Amount'\n",
    "df.drop(['Time', 'Amount'], axis=1, inplace=True)\n",
    "\n",
    "# 4. Sắp xếp lại cột để nhìn trực quan hơn\n",
    "scaled_features = ['scaled_amount', 'scaled_time'] + [col for col in df.columns if col not in ['Class', 'scaled_amount', 'scaled_time']]\n",
    "df = df[scaled_features + ['Class']]\n",
    "\n",
    "print(\"5 dòng dữ liệu đầu tiên sau khi chuẩn hóa:\")\n",
    "print(df.head())"
   ]
  },
  {
   "cell_type": "code",
   "execution_count": 4,
   "id": "6b60ee7e-95fa-4259-9878-c04a88ab3976",
   "metadata": {},
   "outputs": [
    {
     "name": "stdout",
     "output_type": "stream",
     "text": [
      "Số lượng mẫu trong tập Train: 227845 (394 gian lận)\n",
      "Số lượng mẫu trong tập Test: 56962 (98 gian lận)\n",
      "Kiểm tra tỷ lệ Gian lận trong tập Test: 0.1720%\n"
     ]
    }
   ],
   "source": [
    "# Cell 4: Phân chia Dữ liệu (Train/Test Split)\n",
    "\n",
    "# 1. Tách X (features) và y (target)\n",
    "X = df.drop('Class', axis=1)\n",
    "y = df['Class']\n",
    "\n",
    "# 2. Phân chia dữ liệu (20% cho Test, 80% cho Train)\n",
    "# stratify=y LÀ BẮT BUỘC: Giúp duy trì tỷ lệ 0.17% gian lận trong cả hai tập\n",
    "X_train, X_test, y_train, y_test = train_test_split(X, y, test_size=0.2, random_state=42, stratify=y)\n",
    "\n",
    "# 3. Kiểm tra lại tỷ lệ\n",
    "print(f\"Số lượng mẫu trong tập Train: {len(X_train)} ({y_train.sum()} gian lận)\")\n",
    "print(f\"Số lượng mẫu trong tập Test: {len(X_test)} ({y_test.sum()} gian lận)\")\n",
    "print(f\"Kiểm tra tỷ lệ Gian lận trong tập Test: {y_test.sum() / len(y_test) * 100:.4f}%\")"
   ]
  },
  {
   "cell_type": "code",
   "execution_count": 5,
   "id": "35c2dc24-d71c-4b4f-a182-aacadd4d335f",
   "metadata": {},
   "outputs": [
    {
     "name": "stdout",
     "output_type": "stream",
     "text": [
      "\n",
      "--- KẾT QUẢ ĐÁNH GIÁ MÔ HÌNH BASELINE (Logistic Regression) ---\n",
      "ROC AUC Score: 0.9721\n",
      "\n",
      "Classification Report (Rất Quan Trọng):\n",
      "              precision    recall  f1-score   support\n",
      "\n",
      "           0       1.00      0.98      0.99     56864\n",
      "           1       0.06      0.92      0.11        98\n",
      "\n",
      "    accuracy                           0.98     56962\n",
      "   macro avg       0.53      0.95      0.55     56962\n",
      "weighted avg       1.00      0.98      0.99     56962\n",
      "\n",
      "\n",
      "Confusion Matrix:\n",
      "[[55478  1386]\n",
      " [    8    90]]\n",
      "\n",
      "=> Báo cáo: Mô hình đã bỏ sót 8 giao dịch Gian lận (False Negative).\n"
     ]
    }
   ],
   "source": [
    "# Cell 5: Xây dựng và Đánh giá Mô hình Baseline\n",
    "\n",
    "# 1. Huấn luyện Logistic Regression\n",
    "# class_weight='balanced': Tự động gán trọng số cao hơn cho lớp thiểu số (gian lận)\n",
    "lr = LogisticRegression(solver='liblinear', random_state=42, class_weight='balanced')\n",
    "lr.fit(X_train, y_train)\n",
    "\n",
    "# 2. Dự đoán trên tập Test\n",
    "y_pred = lr.predict(X_test)\n",
    "y_proba = lr.predict_proba(X_test)[:, 1] \n",
    "\n",
    "print(\"\\n--- KẾT QUẢ ĐÁNH GIÁ MÔ HÌNH BASELINE (Logistic Regression) ---\")\n",
    "\n",
    "# 3. Phân tích chỉ số\n",
    "# a. ROC AUC Score (khả năng phân biệt tổng quát)\n",
    "print(f\"ROC AUC Score: {roc_auc_score(y_test, y_proba):.4f}\")\n",
    "\n",
    "# b. Classification Report (Chỉ số chi tiết: Recall và Precision)\n",
    "print(\"\\nClassification Report (Rất Quan Trọng):\")\n",
    "print(classification_report(y_test, y_pred))\n",
    "\n",
    "# c. Confusion Matrix (Ma trận nhầm lẫn)\n",
    "cm = confusion_matrix(y_test, y_pred)\n",
    "print(\"\\nConfusion Matrix:\")\n",
    "# Hàng 0: Dự đoán Hợp lệ / Hàng 1: Dự đoán Gian lận\n",
    "# Cột 0: Thực tế Hợp lệ / Cột 1: Thực tế Gian lận\n",
    "print(cm)\n",
    "\n",
    "# Giải thích Confusion Matrix (Ví dụ: Chú ý góc trên phải và dưới trái)\n",
    "TN = cm[0][0] # True Negative: Đúng là Hợp lệ\n",
    "FP = cm[0][1] # False Positive: Báo Gian lận NHƯNG thực tế là Hợp lệ (Cảnh báo sai)\n",
    "FN = cm[1][0] # False Negative: Báo Hợp lệ NHƯNG thực tế là Gian lận (Bỏ sót gian lận)\n",
    "TP = cm[1][1] # True Positive: Đúng là Gian lận\n",
    "print(f\"\\n=> Báo cáo: Mô hình đã bỏ sót {FN} giao dịch Gian lận (False Negative).\")"
   ]
  },
  {
   "cell_type": "code",
   "execution_count": null,
   "id": "a858b45b-31b3-400a-9ed6-a63a5d8b74cb",
   "metadata": {},
   "outputs": [],
   "source": []
  }
 ],
 "metadata": {
  "kernelspec": {
   "display_name": "Python [conda env:fraud_detection]",
   "language": "python",
   "name": "conda-env-fraud_detection-py"
  },
  "language_info": {
   "codemirror_mode": {
    "name": "ipython",
    "version": 3
   },
   "file_extension": ".py",
   "mimetype": "text/x-python",
   "name": "python",
   "nbconvert_exporter": "python",
   "pygments_lexer": "ipython3",
   "version": "3.11.13"
  }
 },
 "nbformat": 4,
 "nbformat_minor": 5
}
